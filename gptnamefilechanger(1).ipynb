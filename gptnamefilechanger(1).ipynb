{
  "nbformat": 4,
  "nbformat_minor": 0,
  "metadata": {
    "colab": {
      "provenance": []
    },
    "kernelspec": {
      "name": "python3",
      "display_name": "Python 3"
    },
    "language_info": {
      "name": "python"
    }
  },
  "cells": [
    {
      "cell_type": "code",
      "source": [
        "!pip install docx"
      ],
      "metadata": {
        "colab": {
          "base_uri": "https://localhost:8080/"
        },
        "id": "OLdIQBirKDMH",
        "outputId": "f5afcbb6-8b85-4ead-da5c-7cf00a18f66d"
      },
      "execution_count": null,
      "outputs": [
        {
          "output_type": "stream",
          "name": "stdout",
          "text": [
            "Collecting docx\n",
            "  Downloading docx-0.2.4.tar.gz (54 kB)\n",
            "\u001b[?25l     \u001b[90m━━━━━━━━━━━━━━━━━━━━━━━━━━━━━━━━━━━━━━━━\u001b[0m \u001b[32m0.0/54.9 kB\u001b[0m \u001b[31m?\u001b[0m eta \u001b[36m-:--:--\u001b[0m\r\u001b[2K     \u001b[90m━━━━━━━━━━━━━━━━━━━━━━━━━━━━━━━━━━━━━━━━\u001b[0m \u001b[32m54.9/54.9 kB\u001b[0m \u001b[31m2.3 MB/s\u001b[0m eta \u001b[36m0:00:00\u001b[0m\n",
            "\u001b[?25h  Preparing metadata (setup.py) ... \u001b[?25l\u001b[?25hdone\n",
            "Requirement already satisfied: lxml in /usr/local/lib/python3.10/dist-packages (from docx) (5.3.0)\n",
            "Requirement already satisfied: Pillow>=2.0 in /usr/local/lib/python3.10/dist-packages (from docx) (10.4.0)\n",
            "Building wheels for collected packages: docx\n",
            "  Building wheel for docx (setup.py) ... \u001b[?25l\u001b[?25hdone\n",
            "  Created wheel for docx: filename=docx-0.2.4-py3-none-any.whl size=53892 sha256=f99c34250b4cebf6d78b0a615e5b468f61d0ae3ae4928fa03785e3ddcd37ceac\n",
            "  Stored in directory: /root/.cache/pip/wheels/81/f5/1d/e09ba2c1907a43a4146d1189ae4733ca1a3bfe27ee39507767\n",
            "Successfully built docx\n",
            "Installing collected packages: docx\n",
            "Successfully installed docx-0.2.4\n"
          ]
        }
      ]
    },
    {
      "cell_type": "code",
      "source": [
        "!pip install openai==0.28\n",
        "!pip install docx\n",
        "!pip install python-dotenv\n",
        "!pip install python-docx\n",
        "import os\n",
        "import openai\n",
        "import re\n",
        "from dotenv import load_dotenv\n",
        "from docx import Document\n",
        "from IPython import get_ipython\n",
        "from IPython.display import display\n",
        "\n",
        "\n",
        "from dotenv import load_dotenv\n",
        "import openai\n",
        "import docx"
      ],
      "metadata": {
        "colab": {
          "base_uri": "https://localhost:8080/"
        },
        "id": "DIMNrW0kWzPn",
        "outputId": "5266ea5e-28a2-43ba-b399-e475fc027629"
      },
      "execution_count": null,
      "outputs": [
        {
          "output_type": "stream",
          "name": "stdout",
          "text": [
            "Requirement already satisfied: openai==0.28 in /usr/local/lib/python3.10/dist-packages (0.28.0)\n",
            "Requirement already satisfied: requests>=2.20 in /usr/local/lib/python3.10/dist-packages (from openai==0.28) (2.32.3)\n",
            "Requirement already satisfied: tqdm in /usr/local/lib/python3.10/dist-packages (from openai==0.28) (4.66.6)\n",
            "Requirement already satisfied: aiohttp in /usr/local/lib/python3.10/dist-packages (from openai==0.28) (3.10.10)\n",
            "Requirement already satisfied: charset-normalizer<4,>=2 in /usr/local/lib/python3.10/dist-packages (from requests>=2.20->openai==0.28) (3.4.0)\n",
            "Requirement already satisfied: idna<4,>=2.5 in /usr/local/lib/python3.10/dist-packages (from requests>=2.20->openai==0.28) (3.10)\n",
            "Requirement already satisfied: urllib3<3,>=1.21.1 in /usr/local/lib/python3.10/dist-packages (from requests>=2.20->openai==0.28) (2.2.3)\n",
            "Requirement already satisfied: certifi>=2017.4.17 in /usr/local/lib/python3.10/dist-packages (from requests>=2.20->openai==0.28) (2024.8.30)\n",
            "Requirement already satisfied: aiohappyeyeballs>=2.3.0 in /usr/local/lib/python3.10/dist-packages (from aiohttp->openai==0.28) (2.4.3)\n",
            "Requirement already satisfied: aiosignal>=1.1.2 in /usr/local/lib/python3.10/dist-packages (from aiohttp->openai==0.28) (1.3.1)\n",
            "Requirement already satisfied: attrs>=17.3.0 in /usr/local/lib/python3.10/dist-packages (from aiohttp->openai==0.28) (24.2.0)\n",
            "Requirement already satisfied: frozenlist>=1.1.1 in /usr/local/lib/python3.10/dist-packages (from aiohttp->openai==0.28) (1.5.0)\n",
            "Requirement already satisfied: multidict<7.0,>=4.5 in /usr/local/lib/python3.10/dist-packages (from aiohttp->openai==0.28) (6.1.0)\n",
            "Requirement already satisfied: yarl<2.0,>=1.12.0 in /usr/local/lib/python3.10/dist-packages (from aiohttp->openai==0.28) (1.17.0)\n",
            "Requirement already satisfied: async-timeout<5.0,>=4.0 in /usr/local/lib/python3.10/dist-packages (from aiohttp->openai==0.28) (4.0.3)\n",
            "Requirement already satisfied: typing-extensions>=4.1.0 in /usr/local/lib/python3.10/dist-packages (from multidict<7.0,>=4.5->aiohttp->openai==0.28) (4.12.2)\n",
            "Requirement already satisfied: propcache>=0.2.0 in /usr/local/lib/python3.10/dist-packages (from yarl<2.0,>=1.12.0->aiohttp->openai==0.28) (0.2.0)\n",
            "Requirement already satisfied: docx in /usr/local/lib/python3.10/dist-packages (0.2.4)\n",
            "Requirement already satisfied: lxml in /usr/local/lib/python3.10/dist-packages (from docx) (5.3.0)\n",
            "Requirement already satisfied: Pillow>=2.0 in /usr/local/lib/python3.10/dist-packages (from docx) (10.4.0)\n",
            "Requirement already satisfied: python-dotenv in /usr/local/lib/python3.10/dist-packages (1.0.1)\n",
            "Requirement already satisfied: python-docx in /usr/local/lib/python3.10/dist-packages (1.1.2)\n",
            "Requirement already satisfied: lxml>=3.1.0 in /usr/local/lib/python3.10/dist-packages (from python-docx) (5.3.0)\n",
            "Requirement already satisfied: typing-extensions>=4.9.0 in /usr/local/lib/python3.10/dist-packages (from python-docx) (4.12.2)\n"
          ]
        }
      ]
    },
    {
      "cell_type": "markdown",
      "source": [],
      "metadata": {
        "id": "ia7erKVJpDcd"
      }
    },
    {
      "cell_type": "code",
      "source": [
        "import os\n",
        "import re\n",
        "from dotenv import load_dotenv\n",
        "from docx import Document\n",
        "import openai\n",
        "\n",
        "# Load environment variables\n",
        "load_dotenv()\n",
        "openai.api_type = \"azure\"\n",
        "openai.api_base = \"https://resumeai1.openai.azure.com/\"\n",
        "openai.api_version = \"2023-08-01-preview\"\n",
        "openai.api_key = \"d754f50fd479455891e50c0f4140****\"\n",
        "deployment_id = \"chatbot\"\n",
        "\n",
        "def extract_text_from_docx(file_path, max_characters=3000):\n",
        "    \"\"\"Extract text from .docx file with a character limit to avoid API token overflow.\"\"\"\n",
        "    doc = Document(file_path)\n",
        "    text = \"\\n\".join(para.text for para in doc.paragraphs)\n",
        "    return text[:max_characters]\n",
        "\n",
        "def sanitize_text(text):\n",
        "    \"\"\"Remove special characters and limit length for safe file naming.\"\"\"\n",
        "    return re.sub(r'[^A-Za-z0-9_]', '', text)[:20]\n",
        "\n",
        "def get_name_title_experience(text):\n",
        "    \"\"\"Extract name and job title from resume text using Azure OpenAI.\"\"\"\n",
        "    try:\n",
        "        response = openai.Completion.create(\n",
        "            engine=deployment_id,\n",
        "            prompt=f\"Extract the Candidate's name and job title (e.g., Java Developer, Business Analyst, Software Engineer) from the following resume:\\n\\n{text}\\n\\nRespond in the format: Name, Job Title\",\n",
        "            temperature=0.2,\n",
        "            max_tokens=100\n",
        "        )\n",
        "        details = response.choices[0].text.strip()\n",
        "        # Split and check for correct format\n",
        "        parts = details.split(',')\n",
        "        if len(parts) >= 2:\n",
        "            return parts[:2]  # Only return name and title if found\n",
        "        else:\n",
        "            return None\n",
        "    except Exception as e:\n",
        "        print(f\"Error calling Azure OpenAI API: {e}\")\n",
        "        return None\n",
        "\n",
        "def rename_and_save(file_path, save_dir, details):\n",
        "    \"\"\"Renames the file using sanitized details and moves it to the output directory.\"\"\"\n",
        "    name = sanitize_text(details[0].strip())\n",
        "    job_title = sanitize_text(details[1].strip())\n",
        "    new_file_name = f\"{name}_{job_title}.docx\"\n",
        "    new_file_path = os.path.join(save_dir, new_file_name)\n",
        "    try:\n",
        "        os.rename(file_path, new_file_path)\n",
        "        print(f\"File renamed to: {new_file_name}\")\n",
        "        return True\n",
        "    except Exception as e:\n",
        "        print(f\"Error renaming file {file_path}: {e}\")\n",
        "        return False\n",
        "\n",
        "# Input and output folder setup\n",
        "input_folder = '/content/input/'\n",
        "output_folder = '/content/testop/'\n",
        "\n",
        "os.makedirs(output_folder, exist_ok=True)\n",
        "\n",
        "# Counters for tracking processing results\n",
        "total_files = 0\n",
        "successful_files = 0\n",
        "skipped_files = 0\n",
        "\n",
        "# Process each file in the input folder\n",
        "for file_name in os.listdir(input_folder):\n",
        "    if file_name.endswith(\".docx\"):\n",
        "        total_files += 1\n",
        "        file_path = os.path.join(input_folder, file_name)\n",
        "        resume_text = extract_text_from_docx(file_path)\n",
        "\n",
        "        # Extract details and rename file if valid\n",
        "        details = get_name_title_experience(resume_text)\n",
        "\n",
        "        if details and len(details) == 2:\n",
        "            if rename_and_save(file_path, output_folder, details):\n",
        "                successful_files += 1\n",
        "            else:\n",
        "                skipped_files += 1\n",
        "        else:\n",
        "            print(f\"Skipped: {file_name} (incomplete data or API error)\")\n",
        "            skipped_files += 1\n",
        "\n",
        "# Print summary for accuracy\n",
        "accuracy = (successful_files / total_files) * 100 if total_files > 0 else 0\n",
        "print(f\"\\nProcessing Summary:\")\n",
        "print(f\"Total Files Processed: {total_files}\")\n",
        "print(f\"Files Successfully Renamed: {successful_files}\")\n",
        "print(f\"Files Skipped: {skipped_files}\")\n",
        "print(f\"Processing Accuracy: {accuracy:.2f}%\")\n"
      ],
      "metadata": {
        "colab": {
          "base_uri": "https://localhost:8080/",
          "height": 385
        },
        "id": "htYiNmmhpIj9",
        "outputId": "f7e821b7-b933-4976-c9cc-57665ce579ae"
      },
      "execution_count": null,
      "outputs": [
        {
          "output_type": "error",
          "ename": "ModuleNotFoundError",
          "evalue": "No module named 'dotenv'",
          "traceback": [
            "\u001b[0;31m---------------------------------------------------------------------------\u001b[0m",
            "\u001b[0;31mModuleNotFoundError\u001b[0m                       Traceback (most recent call last)",
            "\u001b[0;32m<ipython-input-1-cebcb57637c2>\u001b[0m in \u001b[0;36m<cell line: 3>\u001b[0;34m()\u001b[0m\n\u001b[1;32m      1\u001b[0m \u001b[0;32mimport\u001b[0m \u001b[0mos\u001b[0m\u001b[0;34m\u001b[0m\u001b[0;34m\u001b[0m\u001b[0m\n\u001b[1;32m      2\u001b[0m \u001b[0;32mimport\u001b[0m \u001b[0mre\u001b[0m\u001b[0;34m\u001b[0m\u001b[0;34m\u001b[0m\u001b[0m\n\u001b[0;32m----> 3\u001b[0;31m \u001b[0;32mfrom\u001b[0m \u001b[0mdotenv\u001b[0m \u001b[0;32mimport\u001b[0m \u001b[0mload_dotenv\u001b[0m\u001b[0;34m\u001b[0m\u001b[0;34m\u001b[0m\u001b[0m\n\u001b[0m\u001b[1;32m      4\u001b[0m \u001b[0;32mfrom\u001b[0m \u001b[0mdocx\u001b[0m \u001b[0;32mimport\u001b[0m \u001b[0mDocument\u001b[0m\u001b[0;34m\u001b[0m\u001b[0;34m\u001b[0m\u001b[0m\n\u001b[1;32m      5\u001b[0m \u001b[0;32mimport\u001b[0m \u001b[0mopenai\u001b[0m\u001b[0;34m\u001b[0m\u001b[0;34m\u001b[0m\u001b[0m\n",
            "\u001b[0;31mModuleNotFoundError\u001b[0m: No module named 'dotenv'",
            "",
            "\u001b[0;31m---------------------------------------------------------------------------\u001b[0;32m\nNOTE: If your import is failing due to a missing package, you can\nmanually install dependencies using either !pip or !apt.\n\nTo view examples of installing some common dependencies, click the\n\"Open Examples\" button below.\n\u001b[0;31m---------------------------------------------------------------------------\u001b[0m\n"
          ],
          "errorDetails": {
            "actions": [
              {
                "action": "open_url",
                "actionText": "Open Examples",
                "url": "/notebooks/snippets/importing_libraries.ipynb"
              }
            ]
          }
        }
      ]
    }
  ]
}